{
 "cells": [
  {
   "cell_type": "code",
   "execution_count": 1,
   "id": "27393576",
   "metadata": {
    "_cell_guid": "b1076dfc-b9ad-4769-8c92-a6c4dae69d19",
    "_uuid": "8f2839f25d086af736a60e9eeb907d3b93b6e0e5",
    "execution": {
     "iopub.execute_input": "2022-09-22T12:40:10.443715Z",
     "iopub.status.busy": "2022-09-22T12:40:10.443236Z",
     "iopub.status.idle": "2022-09-22T12:40:11.667318Z",
     "shell.execute_reply": "2022-09-22T12:40:11.665357Z"
    },
    "papermill": {
     "duration": 1.238247,
     "end_time": "2022-09-22T12:40:11.670404",
     "exception": false,
     "start_time": "2022-09-22T12:40:10.432157",
     "status": "completed"
    },
    "tags": []
   },
   "outputs": [
    {
     "data": {
      "text/html": [
       "<div>\n",
       "<style scoped>\n",
       "    .dataframe tbody tr th:only-of-type {\n",
       "        vertical-align: middle;\n",
       "    }\n",
       "\n",
       "    .dataframe tbody tr th {\n",
       "        vertical-align: top;\n",
       "    }\n",
       "\n",
       "    .dataframe thead th {\n",
       "        text-align: right;\n",
       "    }\n",
       "</style>\n",
       "<table border=\"1\" class=\"dataframe\">\n",
       "  <thead>\n",
       "    <tr style=\"text-align: right;\">\n",
       "      <th></th>\n",
       "      <th>Car_Name</th>\n",
       "      <th>Year</th>\n",
       "      <th>Selling_Price</th>\n",
       "      <th>Present_Price</th>\n",
       "      <th>Kms_Driven</th>\n",
       "      <th>Fuel_Type</th>\n",
       "      <th>Seller_Type</th>\n",
       "      <th>Transmission</th>\n",
       "      <th>Owner</th>\n",
       "    </tr>\n",
       "  </thead>\n",
       "  <tbody>\n",
       "    <tr>\n",
       "      <th>0</th>\n",
       "      <td>ritz</td>\n",
       "      <td>2014</td>\n",
       "      <td>3.35</td>\n",
       "      <td>5.59</td>\n",
       "      <td>27000</td>\n",
       "      <td>Petrol</td>\n",
       "      <td>Dealer</td>\n",
       "      <td>Manual</td>\n",
       "      <td>0</td>\n",
       "    </tr>\n",
       "    <tr>\n",
       "      <th>1</th>\n",
       "      <td>sx4</td>\n",
       "      <td>2013</td>\n",
       "      <td>4.75</td>\n",
       "      <td>9.54</td>\n",
       "      <td>43000</td>\n",
       "      <td>Diesel</td>\n",
       "      <td>Dealer</td>\n",
       "      <td>Manual</td>\n",
       "      <td>0</td>\n",
       "    </tr>\n",
       "    <tr>\n",
       "      <th>2</th>\n",
       "      <td>ciaz</td>\n",
       "      <td>2017</td>\n",
       "      <td>7.25</td>\n",
       "      <td>9.85</td>\n",
       "      <td>6900</td>\n",
       "      <td>Petrol</td>\n",
       "      <td>Dealer</td>\n",
       "      <td>Manual</td>\n",
       "      <td>0</td>\n",
       "    </tr>\n",
       "    <tr>\n",
       "      <th>3</th>\n",
       "      <td>wagon r</td>\n",
       "      <td>2011</td>\n",
       "      <td>2.85</td>\n",
       "      <td>4.15</td>\n",
       "      <td>5200</td>\n",
       "      <td>Petrol</td>\n",
       "      <td>Dealer</td>\n",
       "      <td>Manual</td>\n",
       "      <td>0</td>\n",
       "    </tr>\n",
       "    <tr>\n",
       "      <th>4</th>\n",
       "      <td>swift</td>\n",
       "      <td>2014</td>\n",
       "      <td>4.60</td>\n",
       "      <td>6.87</td>\n",
       "      <td>42450</td>\n",
       "      <td>Diesel</td>\n",
       "      <td>Dealer</td>\n",
       "      <td>Manual</td>\n",
       "      <td>0</td>\n",
       "    </tr>\n",
       "  </tbody>\n",
       "</table>\n",
       "</div>"
      ],
      "text/plain": [
       "  Car_Name  Year  Selling_Price  Present_Price  Kms_Driven Fuel_Type  \\\n",
       "0     ritz  2014           3.35           5.59       27000    Petrol   \n",
       "1      sx4  2013           4.75           9.54       43000    Diesel   \n",
       "2     ciaz  2017           7.25           9.85        6900    Petrol   \n",
       "3  wagon r  2011           2.85           4.15        5200    Petrol   \n",
       "4    swift  2014           4.60           6.87       42450    Diesel   \n",
       "\n",
       "  Seller_Type Transmission  Owner  \n",
       "0      Dealer       Manual      0  \n",
       "1      Dealer       Manual      0  \n",
       "2      Dealer       Manual      0  \n",
       "3      Dealer       Manual      0  \n",
       "4      Dealer       Manual      0  "
      ]
     },
     "execution_count": 1,
     "metadata": {},
     "output_type": "execute_result"
    }
   ],
   "source": [
    "#imporing libraries required to read csv file and to understand data\n",
    "import pandas as pd\n",
    "import numpy as np\n",
    "import matplotlib.pyplot as plt\n",
    "import seaborn as sns\n",
    "car_details=pd.read_csv(\"/kaggle/input/vehicle-dataset-from-cardekho/car data.csv\")\n",
    "car_details.head()"
   ]
  },
  {
   "cell_type": "code",
   "execution_count": 2,
   "id": "4f1fce67",
   "metadata": {
    "execution": {
     "iopub.execute_input": "2022-09-22T12:40:11.691981Z",
     "iopub.status.busy": "2022-09-22T12:40:11.691525Z",
     "iopub.status.idle": "2022-09-22T12:40:11.718536Z",
     "shell.execute_reply": "2022-09-22T12:40:11.717160Z"
    },
    "papermill": {
     "duration": 0.042463,
     "end_time": "2022-09-22T12:40:11.721350",
     "exception": false,
     "start_time": "2022-09-22T12:40:11.678887",
     "status": "completed"
    },
    "tags": []
   },
   "outputs": [
    {
     "name": "stdout",
     "output_type": "stream",
     "text": [
      "<class 'pandas.core.frame.DataFrame'>\n",
      "RangeIndex: 301 entries, 0 to 300\n",
      "Data columns (total 9 columns):\n",
      " #   Column         Non-Null Count  Dtype  \n",
      "---  ------         --------------  -----  \n",
      " 0   Car_Name       301 non-null    object \n",
      " 1   Year           301 non-null    int64  \n",
      " 2   Selling_Price  301 non-null    float64\n",
      " 3   Present_Price  301 non-null    float64\n",
      " 4   Kms_Driven     301 non-null    int64  \n",
      " 5   Fuel_Type      301 non-null    object \n",
      " 6   Seller_Type    301 non-null    object \n",
      " 7   Transmission   301 non-null    object \n",
      " 8   Owner          301 non-null    int64  \n",
      "dtypes: float64(2), int64(3), object(4)\n",
      "memory usage: 21.3+ KB\n"
     ]
    }
   ],
   "source": [
    "car_details.info()"
   ]
  },
  {
   "cell_type": "markdown",
   "id": "a5f50a62",
   "metadata": {
    "papermill": {
     "duration": 0.008353,
     "end_time": "2022-09-22T12:40:11.739269",
     "exception": false,
     "start_time": "2022-09-22T12:40:11.730916",
     "status": "completed"
    },
    "tags": []
   },
   "source": [
    "# 1. * ***value counts of each row where dtype='object'***"
   ]
  },
  {
   "cell_type": "code",
   "execution_count": 3,
   "id": "d654c661",
   "metadata": {
    "execution": {
     "iopub.execute_input": "2022-09-22T12:40:11.758434Z",
     "iopub.status.busy": "2022-09-22T12:40:11.757963Z",
     "iopub.status.idle": "2022-09-22T12:40:11.768186Z",
     "shell.execute_reply": "2022-09-22T12:40:11.767019Z"
    },
    "papermill": {
     "duration": 0.023276,
     "end_time": "2022-09-22T12:40:11.770941",
     "exception": false,
     "start_time": "2022-09-22T12:40:11.747665",
     "status": "completed"
    },
    "tags": []
   },
   "outputs": [
    {
     "data": {
      "text/plain": [
       "Petrol    239\n",
       "Diesel     60\n",
       "CNG         2\n",
       "Name: Fuel_Type, dtype: int64"
      ]
     },
     "execution_count": 3,
     "metadata": {},
     "output_type": "execute_result"
    }
   ],
   "source": [
    "car_details['Fuel_Type'].value_counts()"
   ]
  },
  {
   "cell_type": "code",
   "execution_count": 4,
   "id": "494b27ad",
   "metadata": {
    "execution": {
     "iopub.execute_input": "2022-09-22T12:40:11.790470Z",
     "iopub.status.busy": "2022-09-22T12:40:11.790054Z",
     "iopub.status.idle": "2022-09-22T12:40:11.798461Z",
     "shell.execute_reply": "2022-09-22T12:40:11.797433Z"
    },
    "papermill": {
     "duration": 0.020639,
     "end_time": "2022-09-22T12:40:11.800543",
     "exception": false,
     "start_time": "2022-09-22T12:40:11.779904",
     "status": "completed"
    },
    "tags": []
   },
   "outputs": [
    {
     "data": {
      "text/plain": [
       "Manual       261\n",
       "Automatic     40\n",
       "Name: Transmission, dtype: int64"
      ]
     },
     "execution_count": 4,
     "metadata": {},
     "output_type": "execute_result"
    }
   ],
   "source": [
    "car_details['Transmission'].value_counts()"
   ]
  },
  {
   "cell_type": "code",
   "execution_count": 5,
   "id": "6bbbfbae",
   "metadata": {
    "execution": {
     "iopub.execute_input": "2022-09-22T12:40:11.822046Z",
     "iopub.status.busy": "2022-09-22T12:40:11.821383Z",
     "iopub.status.idle": "2022-09-22T12:40:11.831488Z",
     "shell.execute_reply": "2022-09-22T12:40:11.830026Z"
    },
    "papermill": {
     "duration": 0.023547,
     "end_time": "2022-09-22T12:40:11.834156",
     "exception": false,
     "start_time": "2022-09-22T12:40:11.810609",
     "status": "completed"
    },
    "tags": []
   },
   "outputs": [
    {
     "data": {
      "text/plain": [
       "city                        26\n",
       "corolla altis               16\n",
       "verna                       14\n",
       "fortuner                    11\n",
       "brio                        10\n",
       "                            ..\n",
       "Honda CB Trigger             1\n",
       "Yamaha FZ S                  1\n",
       "Bajaj Pulsar 135 LS          1\n",
       "Activa 4g                    1\n",
       "Bajaj Avenger Street 220     1\n",
       "Name: Car_Name, Length: 98, dtype: int64"
      ]
     },
     "execution_count": 5,
     "metadata": {},
     "output_type": "execute_result"
    }
   ],
   "source": [
    "car_details['Car_Name'].value_counts()"
   ]
  },
  {
   "cell_type": "code",
   "execution_count": 6,
   "id": "30ca78d1",
   "metadata": {
    "execution": {
     "iopub.execute_input": "2022-09-22T12:40:11.854269Z",
     "iopub.status.busy": "2022-09-22T12:40:11.853796Z",
     "iopub.status.idle": "2022-09-22T12:40:11.864560Z",
     "shell.execute_reply": "2022-09-22T12:40:11.863432Z"
    },
    "papermill": {
     "duration": 0.023739,
     "end_time": "2022-09-22T12:40:11.867172",
     "exception": false,
     "start_time": "2022-09-22T12:40:11.843433",
     "status": "completed"
    },
    "tags": []
   },
   "outputs": [
    {
     "data": {
      "text/plain": [
       "Dealer        195\n",
       "Individual    106\n",
       "Name: Seller_Type, dtype: int64"
      ]
     },
     "execution_count": 6,
     "metadata": {},
     "output_type": "execute_result"
    }
   ],
   "source": [
    "car_details['Seller_Type'].value_counts()"
   ]
  },
  {
   "cell_type": "markdown",
   "id": "fed84826",
   "metadata": {
    "papermill": {
     "duration": 0.008291,
     "end_time": "2022-09-22T12:40:11.884149",
     "exception": false,
     "start_time": "2022-09-22T12:40:11.875858",
     "status": "completed"
    },
    "tags": []
   },
   "source": [
    "# 2. * **Finding Relation between independent cols and dependent col using corr()****\n",
    "\n",
    "* **Detecting Outliers****"
   ]
  },
  {
   "cell_type": "code",
   "execution_count": 7,
   "id": "5ec301da",
   "metadata": {
    "execution": {
     "iopub.execute_input": "2022-09-22T12:40:11.904768Z",
     "iopub.status.busy": "2022-09-22T12:40:11.904090Z",
     "iopub.status.idle": "2022-09-22T12:40:11.915559Z",
     "shell.execute_reply": "2022-09-22T12:40:11.914396Z"
    },
    "papermill": {
     "duration": 0.024718,
     "end_time": "2022-09-22T12:40:11.918076",
     "exception": false,
     "start_time": "2022-09-22T12:40:11.893358",
     "status": "completed"
    },
    "tags": []
   },
   "outputs": [
    {
     "data": {
      "text/plain": [
       "Owner           -0.088344\n",
       "Kms_Driven       0.029187\n",
       "Year             0.236141\n",
       "Present_Price    0.878983\n",
       "Selling_Price    1.000000\n",
       "Name: Selling_Price, dtype: float64"
      ]
     },
     "execution_count": 7,
     "metadata": {},
     "output_type": "execute_result"
    }
   ],
   "source": [
    "car_details.corr()['Selling_Price'].sort_values()"
   ]
  },
  {
   "cell_type": "code",
   "execution_count": 8,
   "id": "ed9ed1e8",
   "metadata": {
    "execution": {
     "iopub.execute_input": "2022-09-22T12:40:11.938195Z",
     "iopub.status.busy": "2022-09-22T12:40:11.937755Z",
     "iopub.status.idle": "2022-09-22T12:40:12.225533Z",
     "shell.execute_reply": "2022-09-22T12:40:12.224362Z"
    },
    "papermill": {
     "duration": 0.301005,
     "end_time": "2022-09-22T12:40:12.228151",
     "exception": false,
     "start_time": "2022-09-22T12:40:11.927146",
     "status": "completed"
    },
    "tags": []
   },
   "outputs": [
    {
     "data": {
      "text/plain": [
       "<AxesSubplot:xlabel='Present_Price', ylabel='Selling_Price'>"
      ]
     },
     "execution_count": 8,
     "metadata": {},
     "output_type": "execute_result"
    },
    {
     "data": {
      "image/png": "[encoded data removed]",
      "text/plain": [
       "<Figure size 432x288 with 1 Axes>"
      ]
     },
     "metadata": {
      "needs_background": "light"
     },
     "output_type": "display_data"
    }
   ],
   "source": [
    "sns.scatterplot(data=car_details,y='Selling_Price',x='Present_Price')"
   ]
  },
  {
   "cell_type": "code",
   "execution_count": 9,
   "id": "b136f998",
   "metadata": {
    "execution": {
     "iopub.execute_input": "2022-09-22T12:40:12.250870Z",
     "iopub.status.busy": "2022-09-22T12:40:12.250433Z",
     "iopub.status.idle": "2022-09-22T12:40:12.267713Z",
     "shell.execute_reply": "2022-09-22T12:40:12.266117Z"
    },
    "papermill": {
     "duration": 0.032305,
     "end_time": "2022-09-22T12:40:12.270198",
     "exception": false,
     "start_time": "2022-09-22T12:40:12.237893",
     "status": "completed"
    },
    "tags": []
   },
   "outputs": [
    {
     "data": {
      "text/html": [
       "<div>\n",
       "<style scoped>\n",
       "    .dataframe tbody tr th:only-of-type {\n",
       "        vertical-align: middle;\n",
       "    }\n",
       "\n",
       "    .dataframe tbody tr th {\n",
       "        vertical-align: top;\n",
       "    }\n",
       "\n",
       "    .dataframe thead th {\n",
       "        text-align: right;\n",
       "    }\n",
       "</style>\n",
       "<table border=\"1\" class=\"dataframe\">\n",
       "  <thead>\n",
       "    <tr style=\"text-align: right;\">\n",
       "      <th></th>\n",
       "      <th>Car_Name</th>\n",
       "      <th>Year</th>\n",
       "      <th>Selling_Price</th>\n",
       "      <th>Present_Price</th>\n",
       "      <th>Kms_Driven</th>\n",
       "      <th>Fuel_Type</th>\n",
       "      <th>Seller_Type</th>\n",
       "      <th>Transmission</th>\n",
       "      <th>Owner</th>\n",
       "    </tr>\n",
       "  </thead>\n",
       "  <tbody>\n",
       "    <tr>\n",
       "      <th>64</th>\n",
       "      <td>fortuner</td>\n",
       "      <td>2017</td>\n",
       "      <td>33.0</td>\n",
       "      <td>36.23</td>\n",
       "      <td>6000</td>\n",
       "      <td>Diesel</td>\n",
       "      <td>Dealer</td>\n",
       "      <td>Automatic</td>\n",
       "      <td>0</td>\n",
       "    </tr>\n",
       "    <tr>\n",
       "      <th>86</th>\n",
       "      <td>land cruiser</td>\n",
       "      <td>2010</td>\n",
       "      <td>35.0</td>\n",
       "      <td>92.60</td>\n",
       "      <td>78000</td>\n",
       "      <td>Diesel</td>\n",
       "      <td>Dealer</td>\n",
       "      <td>Manual</td>\n",
       "      <td>0</td>\n",
       "    </tr>\n",
       "  </tbody>\n",
       "</table>\n",
       "</div>"
      ],
      "text/plain": [
       "        Car_Name  Year  Selling_Price  Present_Price  Kms_Driven Fuel_Type  \\\n",
       "64      fortuner  2017           33.0          36.23        6000    Diesel   \n",
       "86  land cruiser  2010           35.0          92.60       78000    Diesel   \n",
       "\n",
       "   Seller_Type Transmission  Owner  \n",
       "64      Dealer    Automatic      0  \n",
       "86      Dealer       Manual      0  "
      ]
     },
     "execution_count": 9,
     "metadata": {},
     "output_type": "execute_result"
    }
   ],
   "source": [
    "car_details[(car_details['Present_Price']>=35) & (car_details['Selling_Price']>=30)]"
   ]
  },
  {
   "cell_type": "code",
   "execution_count": 10,
   "id": "50f6bfc6",
   "metadata": {
    "execution": {
     "iopub.execute_input": "2022-09-22T12:40:12.291235Z",
     "iopub.status.busy": "2022-09-22T12:40:12.290560Z",
     "iopub.status.idle": "2022-09-22T12:40:12.481473Z",
     "shell.execute_reply": "2022-09-22T12:40:12.480210Z"
    },
    "papermill": {
     "duration": 0.204538,
     "end_time": "2022-09-22T12:40:12.484164",
     "exception": false,
     "start_time": "2022-09-22T12:40:12.279626",
     "status": "completed"
    },
    "tags": []
   },
   "outputs": [
    {
     "data": {
      "text/plain": [
       "<AxesSubplot:xlabel='Year', ylabel='Selling_Price'>"
      ]
     },
     "execution_count": 10,
     "metadata": {},
     "output_type": "execute_result"
    },
    {
     "data": {
      "image/png": "[encoded data removed]",
      "text/plain": [
       "<Figure size 432x288 with 1 Axes>"
      ]
     },
     "metadata": {
      "needs_background": "light"
     },
     "output_type": "display_data"
    }
   ],
   "source": [
    "sns.scatterplot(data=car_details,y='Selling_Price',x='Year')"
   ]
  },
  {
   "cell_type": "code",
   "execution_count": 11,
   "id": "c001668c",
   "metadata": {
    "execution": {
     "iopub.execute_input": "2022-09-22T12:40:12.505622Z",
     "iopub.status.busy": "2022-09-22T12:40:12.505214Z",
     "iopub.status.idle": "2022-09-22T12:40:12.515321Z",
     "shell.execute_reply": "2022-09-22T12:40:12.514011Z"
    },
    "papermill": {
     "duration": 0.023904,
     "end_time": "2022-09-22T12:40:12.517907",
     "exception": false,
     "start_time": "2022-09-22T12:40:12.494003",
     "status": "completed"
    },
    "tags": []
   },
   "outputs": [
    {
     "data": {
      "text/plain": [
       "Int64Index([64, 86], dtype='int64')"
      ]
     },
     "execution_count": 11,
     "metadata": {},
     "output_type": "execute_result"
    }
   ],
   "source": [
    "outliers_index=car_details[(car_details['Selling_Price']>=30) & (car_details['Year']>=2010)].index\n",
    "outliers_index"
   ]
  },
  {
   "cell_type": "markdown",
   "id": "bfd08f50",
   "metadata": {
    "papermill": {
     "duration": 0.010308,
     "end_time": "2022-09-22T12:40:12.538091",
     "exception": false,
     "start_time": "2022-09-22T12:40:12.527783",
     "status": "completed"
    },
    "tags": []
   },
   "source": [
    "1. ->Selling_price Dependent on Present_price and Year So we try to find realtion between these cols using scatter plot\n",
    "2. ->We found that selling_price will be increasing with respective to Present_price But we can Observe the increase of Selling_price is low when compared to Present_price beccuse there ratio is lessthan 1 \n",
    "3. ->By observing both the graphs we tried to fing outliers and removed them by finding their index in next two cells and graphs after removing outliers is shown below \n",
    "4. ->By Above the two graphs we found index of outliers from both graphs are same"
   ]
  },
  {
   "cell_type": "code",
   "execution_count": 12,
   "id": "8f274367",
   "metadata": {
    "execution": {
     "iopub.execute_input": "2022-09-22T12:40:12.560768Z",
     "iopub.status.busy": "2022-09-22T12:40:12.560344Z",
     "iopub.status.idle": "2022-09-22T12:40:12.567447Z",
     "shell.execute_reply": "2022-09-22T12:40:12.565991Z"
    },
    "papermill": {
     "duration": 0.021905,
     "end_time": "2022-09-22T12:40:12.570417",
     "exception": false,
     "start_time": "2022-09-22T12:40:12.548512",
     "status": "completed"
    },
    "tags": []
   },
   "outputs": [],
   "source": [
    "car_details=car_details.drop(outliers_index,axis=0)"
   ]
  },
  {
   "cell_type": "code",
   "execution_count": 13,
   "id": "a5a561e2",
   "metadata": {
    "execution": {
     "iopub.execute_input": "2022-09-22T12:40:12.593149Z",
     "iopub.status.busy": "2022-09-22T12:40:12.592696Z",
     "iopub.status.idle": "2022-09-22T12:40:12.781850Z",
     "shell.execute_reply": "2022-09-22T12:40:12.780042Z"
    },
    "papermill": {
     "duration": 0.203685,
     "end_time": "2022-09-22T12:40:12.784470",
     "exception": false,
     "start_time": "2022-09-22T12:40:12.580785",
     "status": "completed"
    },
    "tags": []
   },
   "outputs": [
    {
     "data": {
      "text/plain": [
       "<AxesSubplot:xlabel='Present_Price', ylabel='Selling_Price'>"
      ]
     },
     "execution_count": 13,
     "metadata": {},
     "output_type": "execute_result"
    },
    {
     "data": {
      "image/png": "[encoded data removed]",
      "text/plain": [
       "<Figure size 432x288 with 1 Axes>"
      ]
     },
     "metadata": {
      "needs_background": "light"
     },
     "output_type": "display_data"
    }
   ],
   "source": [
    "sns.scatterplot(data=car_details,y='Selling_Price',x='Present_Price')"
   ]
  },
  {
   "cell_type": "code",
   "execution_count": 14,
   "id": "3b850d38",
   "metadata": {
    "execution": {
     "iopub.execute_input": "2022-09-22T12:40:12.808798Z",
     "iopub.status.busy": "2022-09-22T12:40:12.807813Z",
     "iopub.status.idle": "2022-09-22T12:40:13.054793Z",
     "shell.execute_reply": "2022-09-22T12:40:13.053839Z"
    },
    "papermill": {
     "duration": 0.261743,
     "end_time": "2022-09-22T12:40:13.057431",
     "exception": false,
     "start_time": "2022-09-22T12:40:12.795688",
     "status": "completed"
    },
    "tags": []
   },
   "outputs": [
    {
     "data": {
      "text/plain": [
       "<AxesSubplot:xlabel='Year', ylabel='Selling_Price'>"
      ]
     },
     "execution_count": 14,
     "metadata": {},
     "output_type": "execute_result"
    },
    {
     "data": {
      "image/png": "[encoded data removed]",
      "text/plain": [
       "<Figure size 432x288 with 1 Axes>"
      ]
     },
     "metadata": {
      "needs_background": "light"
     },
     "output_type": "display_data"
    }
   ],
   "source": [
    "sns.scatterplot(data=car_details,y='Selling_Price',x='Year')"
   ]
  },
  {
   "cell_type": "markdown",
   "id": "d8c7caf4",
   "metadata": {
    "papermill": {
     "duration": 0.011335,
     "end_time": "2022-09-22T12:40:13.080566",
     "exception": false,
     "start_time": "2022-09-22T12:40:13.069231",
     "status": "completed"
    },
    "tags": []
   },
   "source": [
    "1. * **relation between independent cols and dependent col after removing outliers****"
   ]
  },
  {
   "cell_type": "code",
   "execution_count": 15,
   "id": "1fa3122e",
   "metadata": {
    "execution": {
     "iopub.execute_input": "2022-09-22T12:40:13.104785Z",
     "iopub.status.busy": "2022-09-22T12:40:13.104333Z",
     "iopub.status.idle": "2022-09-22T12:40:13.113321Z",
     "shell.execute_reply": "2022-09-22T12:40:13.112506Z"
    },
    "papermill": {
     "duration": 0.024045,
     "end_time": "2022-09-22T12:40:13.115429",
     "exception": false,
     "start_time": "2022-09-22T12:40:13.091384",
     "status": "completed"
    },
    "tags": []
   },
   "outputs": [
    {
     "data": {
      "text/plain": [
       "Owner           -0.092628\n",
       "Kms_Driven       0.026114\n",
       "Year             0.273127\n",
       "Present_Price    0.880358\n",
       "Selling_Price    1.000000\n",
       "Name: Selling_Price, dtype: float64"
      ]
     },
     "execution_count": 15,
     "metadata": {},
     "output_type": "execute_result"
    }
   ],
   "source": [
    "car_details.corr()['Selling_Price'].sort_values()"
   ]
  },
  {
   "cell_type": "markdown",
   "id": "4f20bc18",
   "metadata": {
    "papermill": {
     "duration": 0.010905,
     "end_time": "2022-09-22T12:40:13.137881",
     "exception": false,
     "start_time": "2022-09-22T12:40:13.126976",
     "status": "completed"
    },
    "tags": []
   },
   "source": [
    "1. * **Now we try to encode object cols to int or float cols swo we can find some relation among these cols and depedent col(selling_price)\n",
    "2. * for that we can use OneHotEncoder or LabelEncoder(from sklearn.preprocessing import LabelEncoder,OneHotEncoder)\n",
    "3. * Here Value_counts for object col is less than 3 so we can choose LabelEncoder or we can use 'replace'\n",
    "4. * Here Using LabelEncoder or using replace gives returns same col****"
   ]
  },
  {
   "cell_type": "code",
   "execution_count": 16,
   "id": "0477d9c0",
   "metadata": {
    "execution": {
     "iopub.execute_input": "2022-09-22T12:40:13.164043Z",
     "iopub.status.busy": "2022-09-22T12:40:13.163318Z",
     "iopub.status.idle": "2022-09-22T12:40:13.174042Z",
     "shell.execute_reply": "2022-09-22T12:40:13.173220Z"
    },
    "papermill": {
     "duration": 0.026807,
     "end_time": "2022-09-22T12:40:13.176548",
     "exception": false,
     "start_time": "2022-09-22T12:40:13.149741",
     "status": "completed"
    },
    "tags": []
   },
   "outputs": [],
   "source": [
    "car_details['Seller_Type']=car_details['Seller_Type'].replace('Dealer',0)\n",
    "car_details['Seller_Type']=car_details['Seller_Type'].replace('Individual',1)\n",
    "  \n",
    "\n",
    "car_details['Transmission']=car_details['Transmission'].replace('Manual',0)\n",
    "car_details['Transmission']=car_details['Transmission'].replace('Automatic',1)\n",
    "\n",
    "\n",
    "car_details['Fuel_Type']=car_details['Fuel_Type'].replace('Petrol',0)\n",
    "car_details['Fuel_Type']=car_details['Fuel_Type'].replace('Diesel',1)\n",
    "car_details['Fuel_Type']=car_details['Fuel_Type'].replace('CNG',2)"
   ]
  },
  {
   "cell_type": "code",
   "execution_count": 17,
   "id": "d4a93f96",
   "metadata": {
    "execution": {
     "iopub.execute_input": "2022-09-22T12:40:13.208769Z",
     "iopub.status.busy": "2022-09-22T12:40:13.207562Z",
     "iopub.status.idle": "2022-09-22T12:40:13.219166Z",
     "shell.execute_reply": "2022-09-22T12:40:13.217829Z"
    },
    "papermill": {
     "duration": 0.032741,
     "end_time": "2022-09-22T12:40:13.221807",
     "exception": false,
     "start_time": "2022-09-22T12:40:13.189066",
     "status": "completed"
    },
    "tags": []
   },
   "outputs": [
    {
     "data": {
      "text/plain": [
       "Car_Name         0\n",
       "Year             0\n",
       "Selling_Price    0\n",
       "Present_Price    0\n",
       "Kms_Driven       0\n",
       "Fuel_Type        0\n",
       "Seller_Type      0\n",
       "Transmission     0\n",
       "Owner            0\n",
       "dtype: int64"
      ]
     },
     "execution_count": 17,
     "metadata": {},
     "output_type": "execute_result"
    }
   ],
   "source": [
    "car_details.isnull().sum()  #Make Sure there are no null_values in the data. If there are null values use 'impute' library to fill them"
   ]
  },
  {
   "cell_type": "code",
   "execution_count": 18,
   "id": "92ffce8a",
   "metadata": {
    "execution": {
     "iopub.execute_input": "2022-09-22T12:40:13.254699Z",
     "iopub.status.busy": "2022-09-22T12:40:13.254069Z",
     "iopub.status.idle": "2022-09-22T12:40:13.829330Z",
     "shell.execute_reply": "2022-09-22T12:40:13.827503Z"
    },
    "papermill": {
     "duration": 0.59901,
     "end_time": "2022-09-22T12:40:13.833706",
     "exception": false,
     "start_time": "2022-09-22T12:40:13.234696",
     "status": "completed"
    },
    "tags": []
   },
   "outputs": [
    {
     "name": "stdout",
     "output_type": "stream",
     "text": [
      "[1.567911419582691, 0.8886366300124384, 0.8207855177011211, 1.4132550170208962, 1.7298735790854816, 6.423167822481818] [1.590438592881818, 0.5861016917614325, 0.6180627645676952, 0.6040813597011211, 0.658939102340808, 7.084352695044024]\n"
     ]
    }
   ],
   "source": [
    "#Importing Regression Models,train_test_split(to split data into train and test),polynomialfeatures,and metrics to evaluate our model\n",
    "\n",
    "from sklearn.linear_model import LinearRegression,RidgeCV,Ridge,LassoCV,Lasso,ElasticNet,ElasticNetCV\n",
    "from sklearn.model_selection import train_test_split\n",
    "from sklearn.metrics import mean_absolute_error,mean_squared_error,r2_score\n",
    "from sklearn.preprocessing import PolynomialFeatures\n",
    "\n",
    "#spliting data into train and test\n",
    "\n",
    "x=car_details.drop(['Car_Name','Selling_Price'],axis=1)\n",
    "y=car_details['Selling_Price']\n",
    "x_train,x_test,y_train,y_test=train_test_split(x,y,test_size=0.3,random_state=1)\n",
    "\n",
    "\n",
    "#Feature Scaling\n",
    "#try using various degree for polynomialfeatures to find best features\n",
    "\n",
    "train_preds=[]\n",
    "test_preds=[]\n",
    "for i in range(1,7):\n",
    "  model=LinearRegression()\n",
    "  poly=PolynomialFeatures(degree=i,include_bias=False)\n",
    "  converted_x=poly.fit_transform(x)\n",
    "  x_train,x_test,y_train,y_test=train_test_split(converted_x,y,test_size=0.3,random_state=1)\n",
    "  model.fit(x_train,y_train)\n",
    "  train_preds.append(np.sqrt(mean_squared_error(y_train,model.predict(x_train))))\n",
    "  test_preds.append(np.sqrt(mean_squared_error(y_test,model.predict(x_test))))\n",
    "\n",
    "\n",
    "print(test_preds,train_preds)"
   ]
  },
  {
   "cell_type": "code",
   "execution_count": 19,
   "id": "56a61bfc",
   "metadata": {
    "execution": {
     "iopub.execute_input": "2022-09-22T12:40:13.949899Z",
     "iopub.status.busy": "2022-09-22T12:40:13.949365Z",
     "iopub.status.idle": "2022-09-22T12:40:14.189685Z",
     "shell.execute_reply": "2022-09-22T12:40:14.188171Z"
    },
    "papermill": {
     "duration": 0.28388,
     "end_time": "2022-09-22T12:40:14.192462",
     "exception": false,
     "start_time": "2022-09-22T12:40:13.908582",
     "status": "completed"
    },
    "tags": []
   },
   "outputs": [
    {
     "data": {
      "text/plain": [
       "<matplotlib.legend.Legend at 0x7f028a58e190>"
      ]
     },
     "execution_count": 19,
     "metadata": {},
     "output_type": "execute_result"
    },
    {
     "data": {
      "image/png": "[encoded data removed]",
      "text/plain": [
       "<Figure size 432x288 with 1 Axes>"
      ]
     },
     "metadata": {
      "needs_background": "light"
     },
     "output_type": "display_data"
    }
   ],
   "source": [
    "plt.plot(train_preds,label='train_preds')\n",
    "plt.plot(test_preds,label='test_preds')\n",
    "plt.legend()"
   ]
  },
  {
   "cell_type": "markdown",
   "id": "bbecde09",
   "metadata": {
    "papermill": {
     "duration": 0.011472,
     "end_time": "2022-09-22T12:40:14.216344",
     "exception": false,
     "start_time": "2022-09-22T12:40:14.204872",
     "status": "completed"
    },
    "tags": []
   },
   "source": [
    "1. * **From the Above Graph We can state at 4 and after 4 predictions were going wrong so we prefer to select degree for featurescalling less than 4\n",
    "2. * we can choose 2 or 3. I tried choosing 3****"
   ]
  },
  {
   "cell_type": "code",
   "execution_count": 20,
   "id": "67010593",
   "metadata": {
    "execution": {
     "iopub.execute_input": "2022-09-22T12:40:14.241570Z",
     "iopub.status.busy": "2022-09-22T12:40:14.241174Z",
     "iopub.status.idle": "2022-09-22T12:40:14.254130Z",
     "shell.execute_reply": "2022-09-22T12:40:14.252939Z"
    },
    "papermill": {
     "duration": 0.028747,
     "end_time": "2022-09-22T12:40:14.256800",
     "exception": false,
     "start_time": "2022-09-22T12:40:14.228053",
     "status": "completed"
    },
    "tags": []
   },
   "outputs": [],
   "source": [
    "poly=PolynomialFeatures(degree=3,include_bias=False)\n",
    "converted_x=poly.fit_transform(x)\n",
    "x_train,x_test,y_train,y_test=train_test_split(converted_x,y,test_size=0.3,random_state=1)"
   ]
  },
  {
   "cell_type": "code",
   "execution_count": 21,
   "id": "4be76c87",
   "metadata": {
    "execution": {
     "iopub.execute_input": "2022-09-22T12:40:14.284237Z",
     "iopub.status.busy": "2022-09-22T12:40:14.283789Z",
     "iopub.status.idle": "2022-09-22T12:40:14.962406Z",
     "shell.execute_reply": "2022-09-22T12:40:14.959272Z"
    },
    "papermill": {
     "duration": 0.696742,
     "end_time": "2022-09-22T12:40:14.967687",
     "exception": false,
     "start_time": "2022-09-22T12:40:14.270945",
     "status": "completed"
    },
    "tags": []
   },
   "outputs": [
    {
     "name": "stderr",
     "output_type": "stream",
     "text": [
      "/opt/conda/lib/python3.7/site-packages/sklearn/linear_model/_ridge.py:157: LinAlgWarning: Ill-conditioned matrix (rcond=4.80326e-34): result may not be accurate.\n",
      "  return linalg.solve(A, Xy, sym_pos=True, overwrite_a=True).T\n",
      "/opt/conda/lib/python3.7/site-packages/sklearn/linear_model/_coordinate_descent.py:648: ConvergenceWarning: Objective did not converge. You might want to increase the number of iterations, check the scale of the features or consider increasing regularisation. Duality gap: 5.958e+01, tolerance: 3.861e-01\n",
      "  coef_, l1_reg, l2_reg, X, y, max_iter, tol, rng, random, positive\n",
      "/opt/conda/lib/python3.7/site-packages/sklearn/linear_model/_coordinate_descent.py:648: ConvergenceWarning: Objective did not converge. You might want to increase the number of iterations, check the scale of the features or consider increasing regularisation. Duality gap: 5.795e+01, tolerance: 3.861e-01\n",
      "  coef_, l1_reg, l2_reg, X, y, max_iter, tol, rng, random, positive\n"
     ]
    }
   ],
   "source": [
    "#we will be trying various model of regression that were imported from linear_model and we will pick the model which has best score\n",
    "\n",
    "models=[]\n",
    "models.append(('linear_rigression',LinearRegression()))\n",
    "models.append(('Ridge',Ridge(alpha=10.0)))\n",
    "models.append(('RidgeCV',RidgeCV(alphas=(0.1,1.0,10.0),scoring=\"neg_mean_squared_error\")))\n",
    "models.append(('Lasso',Lasso()))\n",
    "models.append(('LassoCV',LassoCV()))\n",
    "models.append(('ElasticNet',ElasticNet()))\n",
    "models.append(('ElasticNetCV',ElasticNetCV()))\n",
    "\n",
    "models_score_MAE={}\n",
    "models_score_RMSE={}\n",
    "for i,name in models:\n",
    "  clf=name\n",
    "  clf.fit(x_train,y_train)\n",
    "  y_preds=clf.predict(x_test)\n",
    "  models_score_RMSE[i]=np.sqrt(mean_squared_error(y_test,y_preds))\n",
    "  models_score_MAE[i]=mean_absolute_error(y_test,y_preds)"
   ]
  },
  {
   "cell_type": "markdown",
   "id": "dc645c17",
   "metadata": {
    "papermill": {
     "duration": 0.052055,
     "end_time": "2022-09-22T12:40:15.074674",
     "exception": false,
     "start_time": "2022-09-22T12:40:15.022619",
     "status": "completed"
    },
    "tags": []
   },
   "source": [
    "Ignore Above Warning it is due to max_iter in Lasso and LassoCV\n",
    "If you dont want any kind of warning use max_iter>10000\n",
    "Note:max_iter is onr of hyperparamter of Lasso and LassoCV"
   ]
  },
  {
   "cell_type": "code",
   "execution_count": 22,
   "id": "298ae027",
   "metadata": {
    "execution": {
     "iopub.execute_input": "2022-09-22T12:40:15.100550Z",
     "iopub.status.busy": "2022-09-22T12:40:15.100168Z",
     "iopub.status.idle": "2022-09-22T12:40:15.107382Z",
     "shell.execute_reply": "2022-09-22T12:40:15.106216Z"
    },
    "papermill": {
     "duration": 0.022731,
     "end_time": "2022-09-22T12:40:15.109762",
     "exception": false,
     "start_time": "2022-09-22T12:40:15.087031",
     "status": "completed"
    },
    "tags": []
   },
   "outputs": [
    {
     "data": {
      "text/plain": [
       "{'linear_rigression': 0.8207855177011211,\n",
       " 'Ridge': 5.129189559933313,\n",
       " 'RidgeCV': 1.8775212495852636e+16,\n",
       " 'Lasso': 1.0082459933121426,\n",
       " 'LassoCV': 4.897040790878066,\n",
       " 'ElasticNet': 1.0118049270943836,\n",
       " 'ElasticNetCV': 4.897040790878066}"
      ]
     },
     "execution_count": 22,
     "metadata": {},
     "output_type": "execute_result"
    }
   ],
   "source": [
    "models_score_RMSE"
   ]
  },
  {
   "cell_type": "code",
   "execution_count": 23,
   "id": "0479b1cf",
   "metadata": {
    "execution": {
     "iopub.execute_input": "2022-09-22T12:40:15.135058Z",
     "iopub.status.busy": "2022-09-22T12:40:15.134573Z",
     "iopub.status.idle": "2022-09-22T12:40:15.297142Z",
     "shell.execute_reply": "2022-09-22T12:40:15.295404Z"
    },
    "papermill": {
     "duration": 0.180317,
     "end_time": "2022-09-22T12:40:15.301792",
     "exception": false,
     "start_time": "2022-09-22T12:40:15.121475",
     "status": "completed"
    },
    "tags": []
   },
   "outputs": [
    {
     "data": {
      "text/plain": [
       "Text(0.5, 1.0, 'models_score_RMSE')"
      ]
     },
     "execution_count": 23,
     "metadata": {},
     "output_type": "execute_result"
    },
    {
     "data": {
      "image/png": "[encoded data removed]",
      "text/plain": [
       "<Figure size 432x288 with 1 Axes>"
      ]
     },
     "metadata": {
      "needs_background": "light"
     },
     "output_type": "display_data"
    }
   ],
   "source": [
    "#Here we will remove RidgeCV score beacuse it is too high which of no use.we try to reduce score\n",
    "models_score_RMSE.pop('RidgeCV')\n",
    "plt.bar(x=models_score_RMSE.keys(),height=models_score_RMSE.values())\n",
    "plt.xticks(rotation=90)\n",
    "plt.title('models_score_RMSE')"
   ]
  },
  {
   "cell_type": "code",
   "execution_count": 24,
   "id": "3f6b7265",
   "metadata": {
    "execution": {
     "iopub.execute_input": "2022-09-22T12:40:15.334889Z",
     "iopub.status.busy": "2022-09-22T12:40:15.333994Z",
     "iopub.status.idle": "2022-09-22T12:40:15.340043Z",
     "shell.execute_reply": "2022-09-22T12:40:15.339210Z"
    },
    "papermill": {
     "duration": 0.022787,
     "end_time": "2022-09-22T12:40:15.343241",
     "exception": false,
     "start_time": "2022-09-22T12:40:15.320454",
     "status": "completed"
    },
    "tags": []
   },
   "outputs": [
    {
     "data": {
      "text/plain": [
       "{'linear_rigression': 0.5030225655504221,\n",
       " 'Ridge': 0.954223882920176,\n",
       " 'RidgeCV': 1.8319305224637492e+16,\n",
       " 'Lasso': 0.6743393291071313,\n",
       " 'LassoCV': 3.4267561736139416,\n",
       " 'ElasticNet': 0.6689727413503431,\n",
       " 'ElasticNetCV': 3.4267561736139416}"
      ]
     },
     "execution_count": 24,
     "metadata": {},
     "output_type": "execute_result"
    }
   ],
   "source": [
    "models_score_MAE"
   ]
  },
  {
   "cell_type": "code",
   "execution_count": 25,
   "id": "4663e069",
   "metadata": {
    "execution": {
     "iopub.execute_input": "2022-09-22T12:40:15.371032Z",
     "iopub.status.busy": "2022-09-22T12:40:15.370277Z",
     "iopub.status.idle": "2022-09-22T12:40:15.605378Z",
     "shell.execute_reply": "2022-09-22T12:40:15.604107Z"
    },
    "papermill": {
     "duration": 0.25214,
     "end_time": "2022-09-22T12:40:15.608681",
     "exception": false,
     "start_time": "2022-09-22T12:40:15.356541",
     "status": "completed"
    },
    "tags": []
   },
   "outputs": [
    {
     "data": {
      "text/plain": [
       "Text(0.5, 1.0, 'models_score_MAE')"
      ]
     },
     "execution_count": 25,
     "metadata": {},
     "output_type": "execute_result"
    },
    {
     "data": {
      "image/png": "[encoded data removed]",
      "text/plain": [
       "<Figure size 432x288 with 1 Axes>"
      ]
     },
     "metadata": {
      "needs_background": "light"
     },
     "output_type": "display_data"
    }
   ],
   "source": [
    "#Here we will remove RidgeCV score beacuse it is too high which of no use.we try to reduce score\n",
    "models_score_MAE.pop('RidgeCV')\n",
    "plt.bar(x=models_score_MAE.keys(),height=models_score_MAE.values())\n",
    "plt.xticks(rotation=90)\n",
    "plt.title('models_score_MAE')"
   ]
  },
  {
   "cell_type": "markdown",
   "id": "ebd8e837",
   "metadata": {
    "papermill": {
     "duration": 0.012235,
     "end_time": "2022-09-22T12:40:15.634557",
     "exception": false,
     "start_time": "2022-09-22T12:40:15.622322",
     "status": "completed"
    },
    "tags": []
   },
   "source": [
    "1. * **From Both models_score_MAE and models_score_RMSE we can predict that linear_regression has low MAE and RMSE so we prefer LinearRegression()****"
   ]
  },
  {
   "cell_type": "code",
   "execution_count": 26,
   "id": "c1b4560f",
   "metadata": {
    "execution": {
     "iopub.execute_input": "2022-09-22T12:40:15.662449Z",
     "iopub.status.busy": "2022-09-22T12:40:15.660954Z",
     "iopub.status.idle": "2022-09-22T12:40:15.698398Z",
     "shell.execute_reply": "2022-09-22T12:40:15.696799Z"
    },
    "papermill": {
     "duration": 0.055912,
     "end_time": "2022-09-22T12:40:15.702873",
     "exception": false,
     "start_time": "2022-09-22T12:40:15.646961",
     "status": "completed"
    },
    "tags": []
   },
   "outputs": [
    {
     "data": {
      "text/plain": [
       "0.9718185383453737"
      ]
     },
     "execution_count": 26,
     "metadata": {},
     "output_type": "execute_result"
    }
   ],
   "source": [
    "final_model=LinearRegression()\n",
    "poly=PolynomialFeatures(degree=3,include_bias=False)\n",
    "converted_x=poly.fit_transform(x)\n",
    "x_train,x_test,y_train,y_test=train_test_split(converted_x,y,test_size=0.3,random_state=1)\n",
    "final_model.fit(x_train,y_train)\n",
    "y_preds=final_model.predict(x_test)\n",
    "r2_score(y_test,y_preds)"
   ]
  }
 ],
 "metadata": {
  "kernelspec": {
   "display_name": "Python 3",
   "language": "python",
   "name": "python3"
  },
  "language_info": {
   "codemirror_mode": {
    "name": "ipython",
    "version": 3
   },
   "file_extension": ".py",
   "mimetype": "text/x-python",
   "name": "python",
   "nbconvert_exporter": "python",
   "pygments_lexer": "ipython3",
   "version": "3.7.12"
  },
  "papermill": {
   "default_parameters": {},
   "duration": 16.171858,
   "end_time": "2022-09-22T12:40:16.703080",
   "environment_variables": {},
   "exception": null,
   "input_path": "__notebook__.ipynb",
   "output_path": "__notebook__.ipynb",
   "parameters": {},
   "start_time": "2022-09-22T12:40:00.531222",
   "version": "2.3.4"
  }
 },
 "nbformat": 4,
 "nbformat_minor": 5
}
